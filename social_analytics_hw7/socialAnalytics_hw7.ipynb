{
 "cells": [
  {
   "cell_type": "markdown",
   "metadata": {},
   "source": [
    "Analysis\n",
    "\n",
    "CNN has the highest negative polarity\n",
    "Fox had the highest positive polarity\n",
    "The New York Times seems to tweet the most consistently\n"
   ]
  },
  {
   "cell_type": "code",
   "execution_count": null,
   "metadata": {},
   "outputs": [],
   "source": [
    "# Dependencies\n",
    "import tweepy\n",
    "import json\n",
    "import numpy as np\n",
    "from config import consumer_key, consumer_secret, access_token, access_token_secret\n",
    "from datetime import datetime\n",
    "import pandas as pd\n",
    "import matplotlib.pyplot as plt"
   ]
  },
  {
   "cell_type": "code",
   "execution_count": 2,
   "metadata": {},
   "outputs": [],
   "source": [
    "# Import and Initialize Sentiment Analyzer\n",
    "from vaderSentiment.vaderSentiment import SentimentIntensityAnalyzer\n",
    "analyzer = SentimentIntensityAnalyzer()"
   ]
  },
  {
   "cell_type": "code",
   "execution_count": 3,
   "metadata": {},
   "outputs": [],
   "source": [
    "# Twitter API Keys\n",
    "consumer_key = consumer_key\n",
    "consumer_secret = consumer_secret\n",
    "access_token = access_token\n",
    "access_token_secret = access_token_secret"
   ]
  },
  {
   "cell_type": "code",
   "execution_count": 4,
   "metadata": {},
   "outputs": [],
   "source": [
    "# Setup Tweepy API Authentication\n",
    "auth = tweepy.OAuthHandler(consumer_key, consumer_secret)\n",
    "auth.set_access_token(access_token, access_token_secret)\n",
    "api = tweepy.API(auth, parser=tweepy.parsers.JSONParser(),wait_on_rate_limit = True)"
   ]
  },
  {
   "cell_type": "code",
   "execution_count": 5,
   "metadata": {},
   "outputs": [],
   "source": [
    "# Lists to hold sentiments\n",
    "compound_list = []\n",
    "positive_list = []\n",
    "negative_list = []\n",
    "neutral_list = []\n",
    "tweet_text = []\n",
    "tweet_times = []\n",
    "tweet_id = []\n",
    "time_diffs = []\n",
    "tweet_user = []\n",
    "tweet_handle = []\n",
    "tweets_ago = []\n",
    "\n",
    "search_done = \"No\""
   ]
  },
  {
   "cell_type": "code",
   "execution_count": 6,
   "metadata": {},
   "outputs": [],
   "source": [
    "target_users = ['@BBC', '@CBSNews', '@CNN', '@FoxNews', '@nytimes']\n",
    "time_between_tweets = []\n",
    "tweet_search_user = []\n",
    "oldest_tweet = None\n",
    "unique_ids = []\n",
    "\n",
    "counter = 0\n",
    "# \"Real Person\" Filters\n",
    "min_tweets = 5\n",
    "max_tweets = 10000\n",
    "max_followers = 2500\n",
    "max_following = 2500\n",
    "lang = \"en\"\n"
   ]
  },
  {
   "cell_type": "code",
   "execution_count": 7,
   "metadata": {},
   "outputs": [],
   "source": [
    "for user in target_users:\n",
    "    counter = 0\n",
    "    for x in range(1, 6):\n",
    "  \n",
    "        public_tweets = api.user_timeline(user,page=x)\n",
    "                \n",
    "        # Loop through all tweets\n",
    "        for tweet in public_tweets:\n",
    "\n",
    "            tweet_id = tweet[\"id\"]\n",
    "\n",
    "            unique_ids.append(tweet_id)\n",
    "            tweet_search_user.append(user)\n",
    "            tweet_text.append(tweet[\"text\"])\n",
    "            tweet_user.append(tweet[\"user\"][\"name\"])\n",
    "            tweet_handle.append(tweet[\"user\"][\"screen_name\"])\n",
    "            tweet_times.append(tweet[\"created_at\"])\n",
    "\n",
    "            # Run Vader Analysis on each tweet\n",
    "            compound = analyzer.polarity_scores(tweet[\"text\"])[\"compound\"]\n",
    "            compound_list.append(compound)\n",
    "\n",
    "            pos = analyzer.polarity_scores(tweet[\"text\"])[\"pos\"]\n",
    "            positive_list.append(pos)\n",
    "\n",
    "            neu = analyzer.polarity_scores(tweet[\"text\"])[\"neu\"]\n",
    "            neutral_list.append(neu)\n",
    "\n",
    "            neg = analyzer.polarity_scores(tweet[\"text\"])[\"neg\"]\n",
    "            negative_list.append(neg)\n",
    "            \n",
    "            tweets_ago.append(counter)\n",
    "            \n",
    "            # Get Tweet ID, subtract 1, and assign to oldest_tweet\n",
    "            oldest_tweet = tweet[\"id\"] - 1\n",
    "            \n",
    "            # Add to counter \n",
    "            counter += 1\n"
   ]
  },
  {
   "cell_type": "code",
   "execution_count": 8,
   "metadata": {},
   "outputs": [],
   "source": [
    "#Add each datetime object into the array\n",
    "tweet_time_objects = []\n",
    "\n",
    "for x in range(len(tweet_times)):\n",
    "        tweet_datetime = datetime.strptime(tweet_times[x], \"%a %b %d %H:%M:%S %z %Y\")\n",
    "        tweet_time_objects.append(tweet_datetime)\n",
    "        \n",
    "# Calculate the time between tweets\n",
    "time_in_between = []\n",
    "\n",
    "# Calculate the time in between each tweet\n",
    "for x in range(len(tweet_time_objects)-1):\n",
    "    hrs_apart = ((tweet_time_objects[x] - tweet_time_objects[x+1]).seconds) / 3600\n",
    "    time_in_between.append(hrs_apart) \n",
    "    \n",
    "time_in_between.append(0)\n",
    "                "
   ]
  },
  {
   "cell_type": "code",
   "execution_count": 143,
   "metadata": {},
   "outputs": [],
   "source": [
    "tweet_data = pd.DataFrame({\"Search Term\": tweet_search_user,\n",
    "                            'Name':tweet_user,\n",
    "                           'Handle':tweet_handle,\n",
    "                            'Id':unique_ids,\n",
    "                            'Text': tweet_text,\n",
    "                           'Time Stamp':tweet_time_objects,\n",
    "                           'Time Between Tweets': time_in_between,\n",
    "                           \"Tweets Ago\": tweets_ago,\n",
    "                           'Compound' : compound_list,\n",
    "                           'positive': positive_list,\n",
    "                           'negative': negative_list,\n",
    "                           'neutral': neutral_list})\n",
    "\n",
    "\n",
    "tweet_data = tweet_data.drop_duplicates()\n",
    "\n",
    "\n",
    "tweet_data.to_csv(\"social_analytics.csv\")"
   ]
  },
  {
   "cell_type": "code",
   "execution_count": 31,
   "metadata": {},
   "outputs": [],
   "source": [
    "bbc_df = tweet_data.loc[tweet_data.Name == \"BBC\"]\n",
    "bbc_df = bbc_df.sort_values(\"Tweets Ago\", ascending=False)\n",
    "\n",
    "cbs_df = tweet_data.loc[tweet_data.Name == \"CBS News\"]\n",
    "cbs_df = cbs_df.sort_values(\"Tweets Ago\", ascending=False)\n",
    "\n",
    "cnn_df = tweet_data.loc[tweet_data.Name == \"CNN\"]\n",
    "cnn_df = cnn_df.sort_values(\"Tweets Ago\", ascending=False)\n",
    "\n",
    "fox_df = tweet_data.loc[tweet_data.Name == \"Fox News\"]\n",
    "fox_df = fox_df.sort_values(\"Tweets Ago\", ascending=False)\n",
    "\n",
    "nyt_df = tweet_data.loc[tweet_data.Name == \"The New York Times\"]\n",
    "nyt_df = nyt_df.sort_values(\"Tweets Ago\", ascending=False)"
   ]
  },
  {
   "cell_type": "code",
   "execution_count": 144,
   "metadata": {},
   "outputs": [
    {
     "data": {
      "image/png": "[encoded data removed]",
      "text/plain": [
       "<matplotlib.figure.Figure at 0x2594a44c9e8>"
      ]
     },
     "metadata": {},
     "output_type": "display_data"
    }
   ],
   "source": [
    "ax = bbc_df.plot.scatter(\"Tweets Ago\",\"Compound\",s = 10,\n",
    "                            label=\"BBC\",color=\"blue\",grid=True,\n",
    "                            linewidths=.5, edgecolors=\"black\",alpha=.8)\n",
    "\n",
    "cbs_df.plot.scatter(\"Tweets Ago\",\"Compound\",s = 10,\n",
    "                            label=\"CBS\",color=\"skyblue\",grid=True,\n",
    "                            linewidths=.5, edgecolors=\"black\",alpha=.8,ax=ax)\n",
    "\n",
    "cnn_df.plot.scatter(\"Tweets Ago\",\"Compound\",s = 10,\n",
    "                            label=\"CNN\",color=\"green\",grid=True,\n",
    "                            linewidths=.5, edgecolors=\"black\",alpha=.8,ax=ax)\n",
    "\n",
    "fox_df.plot.scatter(\"Tweets Ago\",\"Compound\",s = 10,\n",
    "                            label=\"Fox\",color=\"yellow\",grid=True,\n",
    "                            linewidths=.5, edgecolors=\"black\",alpha=.8,ax=ax)\n",
    "\n",
    "nyt_df.plot.scatter(\"Tweets Ago\",\"Compound\",s = 10,\n",
    "                            label=\"NYT\",color=\"red\",grid=True,\n",
    "                            linewidths=.5, edgecolors=\"black\",alpha=.8,ax=ax)\n",
    "\n",
    "ax.set_title('Sentiment Analysis of Media Tweets (7-4-2018)')\n",
    "ax.set_ylabel('Tweet Polarity')\n",
    "ax.set_xlabel('Tweets Ago')\n",
    "\n",
    "ax.set_facecolor('#d7d7df')\n",
    "ax.grid(color=\"w\",  alpha=.7)\n",
    "\n",
    "lgnd = ax.legend(framealpha = 0, loc= \"center left\",bbox_to_anchor=(1, .7),fontsize=10,title= \"Medai Sources\")\n",
    "\n",
    "# Plot legend.\n",
    "lgnd.legendHandles[0]._sizes = [30]\n",
    "lgnd.legendHandles[1]._sizes = [30]\n",
    "lgnd.legendHandles[2]._sizes = [30]\n",
    "lgnd.legendHandles[3]._sizes = [30]\n",
    "lgnd.legendHandles[4]._sizes = [30]\n",
    "\n",
    "plt.savefig(r'images/sentiment_analysis_media_tweets.png')\n"
   ]
  },
  {
   "cell_type": "code",
   "execution_count": 73,
   "metadata": {},
   "outputs": [
    {
     "data": {
      "text/html": [
       "<div>\n",
       "<style scoped>\n",
       "    .dataframe tbody tr th:only-of-type {\n",
       "        vertical-align: middle;\n",
       "    }\n",
       "\n",
       "    .dataframe tbody tr th {\n",
       "        vertical-align: top;\n",
       "    }\n",
       "\n",
       "    .dataframe thead th {\n",
       "        text-align: right;\n",
       "    }\n",
       "</style>\n",
       "<table border=\"1\" class=\"dataframe\">\n",
       "  <thead>\n",
       "    <tr style=\"text-align: right;\">\n",
       "      <th></th>\n",
       "      <th>Name</th>\n",
       "      <th>Compound</th>\n",
       "    </tr>\n",
       "  </thead>\n",
       "  <tbody>\n",
       "    <tr>\n",
       "      <th>0</th>\n",
       "      <td>BBC</td>\n",
       "      <td>7.3868</td>\n",
       "    </tr>\n",
       "    <tr>\n",
       "      <th>1</th>\n",
       "      <td>CBS News</td>\n",
       "      <td>-9.8580</td>\n",
       "    </tr>\n",
       "    <tr>\n",
       "      <th>2</th>\n",
       "      <td>CNN</td>\n",
       "      <td>-12.8961</td>\n",
       "    </tr>\n",
       "    <tr>\n",
       "      <th>3</th>\n",
       "      <td>Fox News</td>\n",
       "      <td>11.9715</td>\n",
       "    </tr>\n",
       "    <tr>\n",
       "      <th>4</th>\n",
       "      <td>The New York Times</td>\n",
       "      <td>6.2250</td>\n",
       "    </tr>\n",
       "  </tbody>\n",
       "</table>\n",
       "</div>"
      ],
      "text/plain": [
       "                 Name  Compound\n",
       "0                 BBC    7.3868\n",
       "1            CBS News   -9.8580\n",
       "2                 CNN  -12.8961\n",
       "3            Fox News   11.9715\n",
       "4  The New York Times    6.2250"
      ]
     },
     "execution_count": 73,
     "metadata": {},
     "output_type": "execute_result"
    }
   ],
   "source": [
    "news_group = tweet_data.groupby(\"Name\")\n",
    "\n",
    "news_summary = pd.DataFrame(news_group[\"Compound\"].sum())\n",
    "\n",
    "news_summary = news_summary.reset_index()\n",
    "\n",
    "news_summary.head(5)\n",
    "\n"
   ]
  },
  {
   "cell_type": "code",
   "execution_count": 142,
   "metadata": {},
   "outputs": [
    {
     "data": {
      "image/png": "[encoded data removed]",
      "text/plain": [
       "<matplotlib.figure.Figure at 0x2594b03e438>"
      ]
     },
     "metadata": {},
     "output_type": "display_data"
    }
   ],
   "source": [
    "\n",
    "ax = news_summary.plot(kind = \"bar\", align = 'center',width=1,legend = False, \n",
    "                       color = [{'blue','red','green','yellow','skyblue'}])\n",
    "\n",
    "for i, v in enumerate(news_summary[\"Compound\"]):\n",
    "    ax.text( i - .25,v  , str(v), color='black')\n",
    "\n",
    "ax.set_title('Overall Media Sentiment Based on Twitter (7-4-2018)')\n",
    "ax.set_xticks([0,1,2,3,4,])\n",
    "ax.set_xticklabels([\"BBC\",\"CBS\",\"CNN\",\"Fox\",\"NYT\"])\n",
    "ax.set_ylabel('Tweet Polarity')\n",
    "ax.set_facecolor('#d7d7df')\n",
    "plt.savefig('overall_sentiment_analysis_media_tweets.png')\n",
    "\n",
    "plt.show()\n",
    "\n"
   ]
  },
  {
   "cell_type": "code",
   "execution_count": null,
   "metadata": {},
   "outputs": [],
   "source": []
  }
 ],
 "metadata": {
  "kernelspec": {
   "display_name": "Python 3",
   "language": "python",
   "name": "python3"
  },
  "language_info": {
   "codemirror_mode": {
    "name": "ipython",
    "version": 3
   },
   "file_extension": ".py",
   "mimetype": "text/x-python",
   "name": "python",
   "nbconvert_exporter": "python",
   "pygments_lexer": "ipython3",
   "version": "3.6.4"
  }
 },
 "nbformat": 4,
 "nbformat_minor": 2
}
