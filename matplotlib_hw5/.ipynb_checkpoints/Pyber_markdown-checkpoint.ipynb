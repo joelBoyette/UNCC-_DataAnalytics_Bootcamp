{
 "cells": [
  {
   "cell_type": "markdown",
   "metadata": {},
   "source": [
    "%matplotlib inline"
   ]
  },
  {
   "cell_type": "markdown",
   "metadata": {},
   "source": [
    "import matplotlib.pyplot as plt\n",
    "import numpy as np\n",
    "import pandas as pd\n",
    "import matplotlib.patches as mpatches"
   ]
  },
  {
   "cell_type": "markdown",
   "metadata": {},
   "source": [
    "colors = [\"gold\", \"skyblue\",\"coral\"]\n",
    "\n",
    "city_data = pd.read_csv(\"raw_data/city_data.csv\")\n",
    "ride_data = pd.read_csv(\"raw_data/ride_data.csv\")\n",
    "\n",
    "rideCity = pd.merge(city_data,ride_data, how=\"left\", on=\"city\")\n"
   ]
  },
  {
   "cell_type": "markdown",
   "metadata": {},
   "source": [
    "# group by city\n",
    "city_group = rideCity.groupby(\"city\")\n",
    "\n",
    "# assign city group by to dataframe\n",
    "summary_data = pd.DataFrame(city_group[\"fare\"].sum())\n",
    "\n",
    "# rename summary column\n",
    "summary_data = summary_data.rename(columns={\"fare\" : \"Total Fares Per City\"})\n",
    "\n",
    "#calculate count and average\n",
    "summary_data[\"Rides Per City\"] = city_group[\"ride_id\"].count()\n",
    "summary_data[\"Avg Fare Per City\"]  = summary_data[\"Total Fares Per City\"] / summary_data[\"Rides Per City\"]\n",
    "\n",
    "summary_data = summary_data.reset_index()\n",
    "\n",
    "# merge summary data with city data grabbing driver count and type from city data\n",
    "graph_data = pd.merge(summary_data,city_data[[\"city\",\"driver_count\",\"type\"]], how = \"left\" , on = \"city\")\n",
    "\n",
    "\n"
   ]
  },
  {
   "cell_type": "markdown",
   "metadata": {},
   "source": [
    "urban = graph_data.loc[graph_data.type == \"Urban\"]\n",
    "suburban = graph_data.loc[graph_data.type == \"Suburban\"]\n",
    "rural = graph_data.loc[graph_data.type == \"Rural\"]\n",
    "\n",
    "ax = urban.plot.scatter(\"Rides Per City\", \"Avg Fare Per City\",\n",
    "                        s=urban[\"driver_count\"]**1.5,label=\"Urban\",\n",
    "                        color=\"coral\",grid=True,figsize=(6,5),\n",
    "                        linewidths=.5, edgecolors=\"black\",alpha=.8)\n",
    "\n",
    "suburban.plot.scatter(\"Rides Per City\", \"Avg Fare Per City\",\n",
    "                      s=suburban[\"driver_count\"]**1.5,label=\"Suburnab\",\n",
    "                      color=\"skyblue\",grid=True,figsize=(6,5),\n",
    "                      linewidths=.5, edgecolors=\"black\",\n",
    "                      alpha=.8,ax=ax)\n",
    "\n",
    "rural.plot.scatter(\"Rides Per City\", \"Avg Fare Per City\",\n",
    "                   s=rural[\"driver_count\"]**2,label=\"Rural\",\n",
    "                   color=\"gold\",grid = True,figsize=(6,5),\n",
    "                   linewidths=.5, edgecolors=\"black\",\n",
    "                   alpha=.8,ax=ax)\n",
    "\n",
    "ax.set_facecolor('#d7d7df')\n",
    "ax.grid(color=\"w\",  alpha=.7)\n",
    "\n",
    "lgnd = ax.legend(framealpha = 0, loc= \"best\",fontsize=10,title= \"City Types\")\n",
    "\n",
    "# Plot legend.\n",
    "lgnd.legendHandles[0]._sizes = [30]\n",
    "lgnd.legendHandles[1]._sizes = [30]\n",
    "lgnd.legendHandles[2]._sizes = [30]\n",
    "\n",
    "plt.title(\"Pyber Ride Sharing Data (2016)\")\n",
    "plt.xlim(0,40)\n",
    "plt.ylim(18,45)\n",
    "\n",
    "note = 'Note:\\nCircle size correlates with driver count per city'\n",
    "plt.gcf().text(1,.6,note, fontsize = 10)\n",
    "\n",
    "\n",
    "plt.tight_layout()\n",
    "plt.show()"
   ]
  },
  {
   "cell_type": "markdown",
   "metadata": {},
   "source": [
    "type_group = graph_data.groupby(\"type\")\n",
    "fares_type = pd.DataFrame(type_group[\"Total Fares Per City\"].sum())\n",
    "fares_type = fares_type.reset_index()\n",
    "\n",
    "plt.pie(fares_type[\"Total Fares Per City\"],labels = fares_type[\"type\"],explode = [0,0,.1],\n",
    "        colors = colors, autopct=\"%1.1f%%\", shadow=True, startangle=115)\n",
    "\n",
    "plt.title('% of Fares by City Type\\n')\n",
    "plt.axis(\"equal\")\n",
    "plt.show()\n",
    "\n"
   ]
  },
  {
   "cell_type": "markdown",
   "metadata": {
    "scrolled": true
   },
   "source": [
    "rides_type = pd.DataFrame(type_group[\"Rides Per City\"].sum())\n",
    "rides_type = rides_type.reset_index()\n",
    "\n",
    "plt.pie(rides_type[\"Rides Per City\"],labels = rides_type[\"type\"],explode = [0,0,.1],\n",
    "        colors = colors, autopct=\"%1.1f%%\", shadow=True, startangle=125,pctdistance= .7)\n",
    "\n",
    "plt.title('% of Total Rides by City Type\\n')\n",
    "plt.axis(\"equal\")\n",
    "plt.show()\n"
   ]
  },
  {
   "cell_type": "markdown",
   "metadata": {},
   "source": [
    "drivers_type = pd.DataFrame(type_group[\"driver_count\"].sum())\n",
    "drivers_type = drivers_type.reset_index()\n",
    "\n",
    "plt.pie(drivers_type[\"driver_count\"],labels = drivers_type[\"type\"],explode = [0,0,.1],\n",
    "        colors = colors, autopct=\"%1.1f%%\", shadow=True, startangle=145,pctdistance= .8)\n",
    "\n",
    "plt.title('% of Total Drivers by City Type\\n')\n",
    "plt.axis(\"equal\")\n",
    "plt.show()"
   ]
  },
  {
   "cell_type": "code",
   "execution_count": null,
   "metadata": {},
   "outputs": [],
   "source": []
  },
  {
   "cell_type": "code",
   "execution_count": null,
   "metadata": {},
   "outputs": [],
   "source": [
    "\n"
   ]
  },
  {
   "cell_type": "code",
   "execution_count": null,
   "metadata": {},
   "outputs": [],
   "source": []
  },
  {
   "cell_type": "code",
   "execution_count": null,
   "metadata": {},
   "outputs": [],
   "source": []
  }
 ],
 "metadata": {
  "kernelspec": {
   "display_name": "Python 3",
   "language": "python",
   "name": "python3"
  },
  "language_info": {
   "codemirror_mode": {
    "name": "ipython",
    "version": 3
   },
   "file_extension": ".py",
   "mimetype": "text/x-python",
   "name": "python",
   "nbconvert_exporter": "python",
   "pygments_lexer": "ipython3",
   "version": "3.6.4"
  }
 },
 "nbformat": 4,
 "nbformat_minor": 2
}
