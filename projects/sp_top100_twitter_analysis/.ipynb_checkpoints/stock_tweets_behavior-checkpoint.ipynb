{
 "cells": [
  {
   "cell_type": "code",
   "execution_count": null,
   "metadata": {},
   "outputs": [],
   "source": [
    "# Dependencies\n",
    "import tweepy\n",
    "import json\n",
    "import numpy as np\n",
    "from config import consumer_key, consumer_secret, access_token, access_token_secret\n",
    "from datetime import datetime\n",
    "import pandas as pd\n",
    "from nltk.tokenize import word_tokenize\n",
    "import re\n",
    "import matplotlib.pyplot as plt\n",
    "import time\n",
    "\n",
    "import plotly\n",
    "plotly.tools.set_credentials_file(username='joelboyette', api_key='HIyPnjcR2BP793dZBmRC')\n",
    "\n",
    "import plotly.plotly as py\n",
    "import plotly.graph_objs as go"
   ]
  },
  {
   "cell_type": "code",
   "execution_count": null,
   "metadata": {},
   "outputs": [],
   "source": [
    "# Twitter API Keys\n",
    "consumer_key = consumer_key\n",
    "consumer_secret = consumer_secret\n",
    "access_token = access_token\n",
    "access_token_secret = access_token_secret"
   ]
  },
  {
   "cell_type": "code",
   "execution_count": null,
   "metadata": {},
   "outputs": [],
   "source": [
    "# Setup Tweepy API Authentication\n",
    "auth = tweepy.OAuthHandler(consumer_key, consumer_secret)\n",
    "auth.set_access_token(access_token, access_token_secret)\n",
    "api = tweepy.API(auth, parser=tweepy.parsers.JSONParser(), wait_on_rate_limit=True)"
   ]
  },
  {
   "cell_type": "code",
   "execution_count": null,
   "metadata": {},
   "outputs": [],
   "source": [
    "#list to hold tweet data\n",
    "tweet_text = []\n",
    "tweet_times = []\n",
    "unique_ids = []\n",
    "tweet_user = []\n",
    "tweet_handle = []\n",
    "tweet_followers = []\n",
    "\n",
    "tweet_search_keyword = []\n",
    "tweet_post_retweets = []\n",
    "tweet_likes = []\n",
    "bad_handle = []\n",
    "\n",
    "oldest_tweet = None\n",
    "sinceId = None\n",
    "tweet_count = 0\n"
   ]
  },
  {
   "cell_type": "code",
   "execution_count": null,
   "metadata": {},
   "outputs": [],
   "source": [
    "top_stocks = pd.read_csv(\"SP_100_Tickers_final.csv\", encoding ='latin')\n",
    "\n",
    "#clean out bad characters\n",
    "top_stocks[\"Twitter_handle\"] =  top_stocks.Twitter_handle.str.replace('\\xa0','')\n",
    "\n",
    "top_stocks_handle = top_stocks[\"Twitter_handle\"].tolist()\n",
    "\n",
    "stock_keywords = top_stocks_handle\n"
   ]
  },
  {
   "cell_type": "code",
   "execution_count": null,
   "metadata": {},
   "outputs": [],
   "source": [
    "#loop through keywords\n",
    "for keyword in stock_keywords:\n",
    "\n",
    "    oldest_tweet = None\n",
    "    \n",
    "    #time.sleep(5)\n",
    "    \n",
    "    try:\n",
    "        for x in range(1,12):\n",
    "            #put tweeter searches in list\n",
    "            public_tweets = api.user_timeline(keyword, count = 200, max_id = oldest_tweet)\n",
    "\n",
    "            # Loop through all tweets\n",
    "            for tweet in public_tweets:\n",
    "\n",
    "                tweet_id = tweet[\"id\"]\n",
    "\n",
    "                 # if Id is unique tweet data will be added\n",
    "                if tweet_id not in unique_ids:\n",
    "                    \n",
    "                    unique_ids.append(tweet_id)\n",
    "                    tweet_search_keyword.append(keyword)\n",
    "                    \n",
    "                    fix_string = tweet[\"text\"].rstrip('\\r\\n')\n",
    "                    tweet_text.append(fix_string)\n",
    "                    \n",
    "                    tweet_user.append(tweet[\"user\"][\"name\"])\n",
    "                    \n",
    "                    tweet_followers.append(tweet[\"user\"][\"followers_count\"])\n",
    "                    \n",
    "                    tweet_times.append(tweet[\"created_at\"])\n",
    "                    \n",
    "                    tweet_post_retweets.append(tweet[\"retweet_count\"])\n",
    "                    tweet_likes.append(tweet[\"favorite_count\"])\n",
    "                        \n",
    "                    oldest_tweet = tweet_id - 1\n",
    "                    tweet_count += 1\n",
    "\n",
    "        \n",
    "        print(keyword + \" grabbed num tweets: \" + str(tweet_count))\n",
    "    \n",
    "    except:\n",
    "        bad_handle.append(keyword)\n",
    "        print(f'{keyword} doesnt have twitter')\n"
   ]
  },
  {
   "cell_type": "code",
   "execution_count": null,
   "metadata": {},
   "outputs": [],
   "source": [
    "# Add each datetime object into the array\n",
    "tweet_time_objects = []\n",
    "for x in range(len(tweet_times)):\n",
    "    tweet_datetime = datetime.strptime(tweet_times[x], \"%a %b %d %H:%M:%S %z %Y\")\n",
    "    tweet_time_objects.append(tweet_datetime)\n"
   ]
  },
  {
   "cell_type": "code",
   "execution_count": null,
   "metadata": {},
   "outputs": [],
   "source": [
    "#check to make sure all list are the same length\n",
    "print(len(tweet_search_keyword))\n",
    "print(len(tweet_user))\n",
    "\n",
    "print(len(tweet_followers))\n",
    "\n",
    "print(len(unique_ids))\n",
    "print(\"---------\")\n",
    "print(len(tweet_text))\n",
    "print(len(tweet_time_objects))\n",
    "print(bad_handle)"
   ]
  },
  {
   "cell_type": "code",
   "execution_count": null,
   "metadata": {},
   "outputs": [],
   "source": [
    "tweet_data.drop_duplicates(keep=False)\n",
    "\n",
    "tweet_data.dropna(how=\"any\")\n",
    "tweet_data = tweet_data.loc(tweet_data[\"Name\"] != \"Joel\")\n"
   ]
  },
  {
   "cell_type": "code",
   "execution_count": null,
   "metadata": {},
   "outputs": [],
   "source": [
    "tweet_data = pd.DataFrame({\"Twitter_handle\": tweet_search_keyword,\n",
    "                            'Name':tweet_user,\n",
    "                           'Followers':tweet_followers,\n",
    "                            'Id':unique_ids,\n",
    "                            'Text': tweet_text,\n",
    "                           'Time Stamp':tweet_time_objects,\n",
    "                            'Time Retweeted':tweet_post_retweets,\n",
    "                            'Times liked':tweet_likes })\n",
    "\n",
    "tweet_data_all = pd.merge(tweet_data,top_stocks[[\"Twitter_handle\",\"industry\",\"sector\",\"Symbol\"]], \n",
    "                on=\"Twitter_handle\", how = \"left\")"
   ]
  },
  {
   "cell_type": "code",
   "execution_count": null,
   "metadata": {},
   "outputs": [],
   "source": [
    "# Identify incomplete rows\n",
    "#df.count()\n",
    "# Drop all rows with missing information\n",
    "#df = df.dropna(how='any')"
   ]
  },
  {
   "cell_type": "code",
   "execution_count": null,
   "metadata": {},
   "outputs": [],
   "source": [
    "counter = 0\n",
    "\n",
    "for index, row in tweet_data_all.iterrows():\n",
    "    \n",
    "    re_retweet = re.match(r'^(RT @)',row[\"Text\"])\n",
    "    re_url = re.findall(r'http[s]?://(?:[a-z]|[0-9]|[$-_@.&amp;+]|[!*\\(\\),]|(?:%[0-9a-f][0-9a-f]))+',row[\"Text\"])\n",
    "    re_hash = re.findall(r'(?:\\#+[\\w_]+[\\w\\'_\\-]*[\\w_]+)',row[\"Text\"])\n",
    "    re_at = re.findall(r'(^|[^\\w@/\\!?=&])@(\\w{1,15})\\b',row[\"Text\"])\n",
    "\n",
    "    if re_retweet:\n",
    "        tweet_data_all.loc[index,\"Retweet\"] = 1\n",
    "    else:\n",
    "        tweet_data_all.loc[index,\"Retweet\"] = 0\n",
    "        \n",
    "    if re_url:\n",
    "        tweet_data_all.lo c[index,\"URL\"] = 1\n",
    "    else:\n",
    "        tweet_data_all.loc[index,\"URL\"] = 0\n",
    "        \n",
    "    if re_hash:\n",
    "        tweet_data_all.loc[index,\"Hashtag\"] = 1\n",
    "    else:\n",
    "        tweet_data_all.loc[index,\"Hashtag\"] = 0\n",
    "        \n",
    "    if re_at and not re_retweet:\n",
    "        tweet_data_all.loc[index,\"@ Symbol\"] = 1\n",
    "    else:\n",
    "        tweet_data_all.loc[index,\"@ Symbol\"] = 0\n",
    "    \n",
    "    #if not re_at and not re_retweet and not re_hash and not re_url aad not re_retweet:\n",
    "    #    tweet_data_all.loc[index,\"Other Tweet\"] = 1\n",
    "    #else:\n",
    "    #    tweet_data_all.loc[index,\"Other Tweet\"] = 0\n",
    "    \n",
    "    counter += 1\n",
    "        \n",
    "    # Print tweets for preview\n",
    "    if counter % 100 == 0:\n",
    "        print(f'rows processed {counter}')\n",
    "    \n",
    "tweet_data_all = tweet_data_all.dropna(how='any')\n",
    "tweet_data_all.to_csv(\"tweet_data_all.csv\")"
   ]
  },
  {
   "cell_type": "code",
   "execution_count": null,
   "metadata": {},
   "outputs": [],
   "source": [
    "industry_group = tweet_data_all.groupby(\"industry\")\n",
    "\n",
    "industry_summary = pd.DataFrame(industry_group[\"Text\"].count())\n",
    "industry_summary = industry_summary.rename(columns={\"Text\" : \"Tweet Count\"})\n",
    "\n",
    "industry_summary.sort_values(by=\"Tweet Count\", ascending= False)\n",
    "industry_summary = industry_summary.reset_index()\n",
    "\n",
    "industry_summary.head(5)\n"
   ]
  },
  {
   "cell_type": "code",
   "execution_count": null,
   "metadata": {},
   "outputs": [],
   "source": [
    "company_industry_stats = tweet_data_all[[\"Name\",\"industry\"]]\n",
    "company_industry_stats = company_data.drop_duplicates(['industry','Name'])\n",
    "\n",
    "company_industry_df = company_industry_stats.groupby(\"industry\",as_index=False).count()\n",
    "company_industry_df = company_industry_df.rename(columns = {\"Name\" : \"Num of Companies\"})\n",
    "\n",
    "company_industry_df[\"Percent of Total\"] = (company_industry_df['Num of Companies'] / company_industry_df[\"industry\"].count() ) \n",
    "\n",
    "industry_final = pd.merge(industry_summary,company_industry_df[[\"industry\",\"Num of Companies\",\"Percent of Total\"]], on=\"industry\" , how = \"left\")\n",
    "\n",
    "industry_final[\"Percent of Total\"] = industry_final[\"Percent of Total\"].map('{:,.2%}'.format)\n",
    "\n",
    "industry_final.head(5)\n"
   ]
  },
  {
   "cell_type": "code",
   "execution_count": null,
   "metadata": {},
   "outputs": [],
   "source": [
    "sector_list = industry_final[\"industry\"].tolist()\n",
    "count_list =  industry_final[\"Tweet Count\"].tolist()\n",
    "percent_list = industry_final[\"Percent of Total\"].tolist()\n",
    "\n",
    "data = [go.Bar(x=sector_list,y=count_list, text = percent_list, textposition = 'auto',\n",
    "            marker=dict(color='rgb(58,200,225)',line=dict(color='rgb(8,48,107)',width=1.5),),opacity=0.6)]\n",
    "\n",
    "layout = go.Layout(title='Industry Breakdown of Tweets',xaxis=dict(tickangle=-65),\n",
    "                   yaxis=dict(title=\"Tweets\",showgrid=False),margin=go.Margin(b=200))\n",
    "\n",
    "fig = go.Figure(data=data, layout=layout)\n",
    "\n",
    "\n",
    "\n",
    "py.image.save_as(fig, filename='industry_breakdown_tweets.png')\n",
    "\n",
    "py.iplot(fig, filename='basic-bar')\n"
   ]
  },
  {
   "cell_type": "code",
   "execution_count": null,
   "metadata": {},
   "outputs": [],
   "source": [
    "company_group = tweet_data_all.groupby(\"Name\")\n",
    "company_summary = pd.DataFrame(company_group[\"Text\"].count())\n",
    "company_summary[\"Retweet\"] = company_group[\"Retweet\"].sum()\n",
    "company_summary[\"URL\"] = company_group[\"URL\"].sum()\n",
    "company_summary[\"Hashtag\"] = company_group[\"Hashtag\"].sum()\n",
    "company_summary[\"@ Symbol\"] = company_group[\"@ Symbol\"].sum()\n",
    "\n",
    "company_summary = company_summary.rename(columns={\"Text\" : \"Tweet Count\"})\n",
    "company_summary = company_summary.reset_index()\n",
    "company_summary.head()\n"
   ]
  },
  {
   "cell_type": "code",
   "execution_count": null,
   "metadata": {},
   "outputs": [],
   "source": [
    "name_list = company_summary[\"Name\"].tolist()\n",
    "retweet_list = company_summary[\"Retweet\"].tolist()\n",
    "url_list = company_summary[\"URL\"].tolist()\n",
    "hashtag_list = company_summary[\"Hashtag\"].tolist()\n",
    "symbol_list = company_summary[\"@ Symbol\"].tolist()\n",
    "\n",
    "trace1 = go.Bar(x=name_list, y=retweet_list, name=\"retweet\",marker=dict(color = 'rgb(58,200,225)'))\n",
    "trace2 = go.Bar(x=name_list, y=url_list, name='url',marker=dict(color = 'rgb(113, 165, 214)'))\n",
    "trace3 = go.Bar(x=name_list, y=symbol_list, name='@ Symbol',marker=dict(color = 'rgb(113, 214, 140)'))\n",
    "trace4 = go.Bar(x=name_list, y=hashtag_list, name='Hashtag',marker=dict(color = 'rgb(214, 113, 143)'))\n",
    "\n",
    "data = [trace1, trace2, trace3, trace4] \n",
    "layout = go.Layout( title='Types of Tweets by Company', xaxis=dict(tickangle=-85,dtick = 1.5), \n",
    "                   yaxis=dict(title=\"Type of Tweet\",showgrid=False) , barmode='stack', margin=go.Margin(b=160))\n",
    "\n",
    "fig = go.Figure(data=data, layout=layout)\n",
    "\n",
    "py.image.save_as(fig, filename='tweet_type_company.png')\n",
    "\n",
    "py.iplot(fig, filename='stacked-bar')"
   ]
  },
  {
   "cell_type": "code",
   "execution_count": null,
   "metadata": {},
   "outputs": [],
   "source": []
  },
  {
   "cell_type": "code",
   "execution_count": null,
   "metadata": {},
   "outputs": [],
   "source": []
  }
 ],
 "metadata": {
  "kernelspec": {
   "display_name": "Python 3",
   "language": "python",
   "name": "python3"
  },
  "language_info": {
   "codemirror_mode": {
    "name": "ipython",
    "version": 3
   },
   "file_extension": ".py",
   "mimetype": "text/x-python",
   "name": "python",
   "nbconvert_exporter": "python",
   "pygments_lexer": "ipython3",
   "version": "3.6.4"
  }
 },
 "nbformat": 4,
 "nbformat_minor": 2
}
